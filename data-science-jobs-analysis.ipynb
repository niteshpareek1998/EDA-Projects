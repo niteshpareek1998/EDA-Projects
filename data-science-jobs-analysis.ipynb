{
 "cells": [
  {
   "cell_type": "markdown",
   "id": "0cdcc7d6",
   "metadata": {
    "papermill": {
     "duration": 0.007656,
     "end_time": "2024-01-19T07:12:43.085158",
     "exception": false,
     "start_time": "2024-01-19T07:12:43.077502",
     "status": "completed"
    },
    "tags": []
   },
   "source": [
    "# Introduction\n",
    "\n",
    "**In this kaggle notebook we are going to analyze a dataset of data science jobs posting throughout the world. As we all know data science branch is producing jobs in high numbers. Almost every top comapny is looking for data scientist to capture data and derive useful insights from it. Hence, we will try to find out relationships between relevant factors. And will look upon all the key points or factors linked with data science job market.**"
   ]
  },
  {
   "cell_type": "code",
   "execution_count": 1,
   "id": "ccc5951a",
   "metadata": {
    "execution": {
     "iopub.execute_input": "2024-01-19T07:12:43.101881Z",
     "iopub.status.busy": "2024-01-19T07:12:43.101463Z",
     "iopub.status.idle": "2024-01-19T07:12:45.973058Z",
     "shell.execute_reply": "2024-01-19T07:12:45.972094Z"
    },
    "papermill": {
     "duration": 2.883567,
     "end_time": "2024-01-19T07:12:45.976057",
     "exception": false,
     "start_time": "2024-01-19T07:12:43.092490",
     "status": "completed"
    },
    "tags": []
   },
   "outputs": [],
   "source": [
    "#Importing essential libraries to analyse datset\n",
    "\n",
    "import numpy as np \n",
    "import pandas as pd\n",
    "import matplotlib.pyplot as plt\n",
    "from matplotlib import cm\n",
    "import seaborn as sns\n",
    "import plotly.express as px\n",
    "import missingno as msno"
   ]
  },
  {
   "cell_type": "code",
   "execution_count": 2,
   "id": "b4ce3f98",
   "metadata": {
    "execution": {
     "iopub.execute_input": "2024-01-19T07:12:45.992102Z",
     "iopub.status.busy": "2024-01-19T07:12:45.991507Z",
     "iopub.status.idle": "2024-01-19T07:12:46.408218Z",
     "shell.execute_reply": "2024-01-19T07:12:46.407024Z"
    },
    "papermill": {
     "duration": 0.427559,
     "end_time": "2024-01-19T07:12:46.410694",
     "exception": false,
     "start_time": "2024-01-19T07:12:45.983135",
     "status": "completed"
    },
    "tags": []
   },
   "outputs": [
    {
     "data": {
      "text/html": [
       "<div>\n",
       "<style scoped>\n",
       "    .dataframe tbody tr th:only-of-type {\n",
       "        vertical-align: middle;\n",
       "    }\n",
       "\n",
       "    .dataframe tbody tr th {\n",
       "        vertical-align: top;\n",
       "    }\n",
       "\n",
       "    .dataframe thead th {\n",
       "        text-align: right;\n",
       "    }\n",
       "</style>\n",
       "<table border=\"1\" class=\"dataframe\">\n",
       "  <thead>\n",
       "    <tr style=\"text-align: right;\">\n",
       "      <th></th>\n",
       "      <th>JobTitle</th>\n",
       "      <th>Company</th>\n",
       "      <th>Location</th>\n",
       "      <th>CompanyReviews</th>\n",
       "      <th>Link</th>\n",
       "    </tr>\n",
       "  </thead>\n",
       "  <tbody>\n",
       "    <tr>\n",
       "      <th>0</th>\n",
       "      <td>NaN</td>\n",
       "      <td>NaN</td>\n",
       "      <td>United States</td>\n",
       "      <td>NaN</td>\n",
       "      <td>https://www.indeed.com/jobs?q=Python+Data&amp;star...</td>\n",
       "    </tr>\n",
       "    <tr>\n",
       "      <th>1</th>\n",
       "      <td>Data Science Development Program- Junior Data ...</td>\n",
       "      <td>\\n    MassMutual</td>\n",
       "      <td>Amherst, MA 01002</td>\n",
       "      <td>628 reviews</td>\n",
       "      <td>https://www.indeed.com/jobs?q=Python+Data&amp;star...</td>\n",
       "    </tr>\n",
       "    <tr>\n",
       "      <th>2</th>\n",
       "      <td>Sr. Data Scientist</td>\n",
       "      <td>\\n    Catasys</td>\n",
       "      <td>Home Based</td>\n",
       "      <td>6 reviews</td>\n",
       "      <td>https://www.indeed.com/jobs?q=Python+Data&amp;star...</td>\n",
       "    </tr>\n",
       "    <tr>\n",
       "      <th>3</th>\n",
       "      <td>Object-oriented Programmer</td>\n",
       "      <td>\\n    Bank of America</td>\n",
       "      <td>New York, NY 10281</td>\n",
       "      <td>19,303 reviews</td>\n",
       "      <td>https://www.indeed.com/jobs?q=Python+Data&amp;star...</td>\n",
       "    </tr>\n",
       "    <tr>\n",
       "      <th>4</th>\n",
       "      <td>Entry-Level Cognitive / AI / Machine Learning ...</td>\n",
       "      <td>\\n    IBM</td>\n",
       "      <td>Austin, TX 73344</td>\n",
       "      <td>18,926 reviews</td>\n",
       "      <td>https://www.indeed.com/jobs?q=Python+Data&amp;star...</td>\n",
       "    </tr>\n",
       "    <tr>\n",
       "      <th>...</th>\n",
       "      <td>...</td>\n",
       "      <td>...</td>\n",
       "      <td>...</td>\n",
       "      <td>...</td>\n",
       "      <td>...</td>\n",
       "    </tr>\n",
       "    <tr>\n",
       "      <th>65665</th>\n",
       "      <td>Big Data Engineer (New project team)</td>\n",
       "      <td>\\n    Iconic</td>\n",
       "      <td>Thành phố Hồ Chí Minh</td>\n",
       "      <td>21 reviews</td>\n",
       "      <td>http://vn.indeed.com/Vi%E1%BB%87c-l%C3%A0m?q=N...</td>\n",
       "    </tr>\n",
       "    <tr>\n",
       "      <th>65666</th>\n",
       "      <td>Language processing and Artificial intelligenc...</td>\n",
       "      <td>\\n    Iconic</td>\n",
       "      <td>Hà Nội</td>\n",
       "      <td>21 reviews</td>\n",
       "      <td>http://vn.indeed.com/Vi%E1%BB%87c-l%C3%A0m?q=N...</td>\n",
       "    </tr>\n",
       "    <tr>\n",
       "      <th>65667</th>\n",
       "      <td>Chuyên Viên R&amp;D C/C++, Java Đi Làm Luôn Hoặc S...</td>\n",
       "      <td>NaN</td>\n",
       "      <td>Hà Nội</td>\n",
       "      <td>NaN</td>\n",
       "      <td>http://vn.indeed.com/Vi%E1%BB%87c-l%C3%A0m?q=N...</td>\n",
       "    </tr>\n",
       "    <tr>\n",
       "      <th>65668</th>\n",
       "      <td>Machine Learning Engineer - webSoSanh.vn</td>\n",
       "      <td>NaN</td>\n",
       "      <td>Hà Nội</td>\n",
       "      <td>NaN</td>\n",
       "      <td>http://vn.indeed.com/Vi%E1%BB%87c-l%C3%A0m?q=N...</td>\n",
       "    </tr>\n",
       "    <tr>\n",
       "      <th>65669</th>\n",
       "      <td>AI / Deep Learning Engineer or Data Scientist</td>\n",
       "      <td>NaN</td>\n",
       "      <td>Thành phố Hồ Chí Minh</td>\n",
       "      <td>NaN</td>\n",
       "      <td>http://vn.indeed.com/Vi%E1%BB%87c-l%C3%A0m?q=N...</td>\n",
       "    </tr>\n",
       "  </tbody>\n",
       "</table>\n",
       "<p>65670 rows × 5 columns</p>\n",
       "</div>"
      ],
      "text/plain": [
       "                                                JobTitle  \\\n",
       "0                                                    NaN   \n",
       "1      Data Science Development Program- Junior Data ...   \n",
       "2                                     Sr. Data Scientist   \n",
       "3                             Object-oriented Programmer   \n",
       "4      Entry-Level Cognitive / AI / Machine Learning ...   \n",
       "...                                                  ...   \n",
       "65665               Big Data Engineer (New project team)   \n",
       "65666  Language processing and Artificial intelligenc...   \n",
       "65667  Chuyên Viên R&D C/C++, Java Đi Làm Luôn Hoặc S...   \n",
       "65668           Machine Learning Engineer - webSoSanh.vn   \n",
       "65669      AI / Deep Learning Engineer or Data Scientist   \n",
       "\n",
       "                     Company               Location  CompanyReviews  \\\n",
       "0                        NaN          United States             NaN   \n",
       "1           \\n    MassMutual      Amherst, MA 01002     628 reviews   \n",
       "2              \\n    Catasys             Home Based       6 reviews   \n",
       "3      \\n    Bank of America    New York, NY 10281   19,303 reviews   \n",
       "4                  \\n    IBM       Austin, TX 73344  18,926 reviews   \n",
       "...                      ...                    ...             ...   \n",
       "65665           \\n    Iconic  Thành phố Hồ Chí Minh      21 reviews   \n",
       "65666           \\n    Iconic                 Hà Nội      21 reviews   \n",
       "65667                    NaN                 Hà Nội             NaN   \n",
       "65668                    NaN                 Hà Nội             NaN   \n",
       "65669                    NaN  Thành phố Hồ Chí Minh             NaN   \n",
       "\n",
       "                                                    Link  \n",
       "0      https://www.indeed.com/jobs?q=Python+Data&star...  \n",
       "1      https://www.indeed.com/jobs?q=Python+Data&star...  \n",
       "2      https://www.indeed.com/jobs?q=Python+Data&star...  \n",
       "3      https://www.indeed.com/jobs?q=Python+Data&star...  \n",
       "4      https://www.indeed.com/jobs?q=Python+Data&star...  \n",
       "...                                                  ...  \n",
       "65665  http://vn.indeed.com/Vi%E1%BB%87c-l%C3%A0m?q=N...  \n",
       "65666  http://vn.indeed.com/Vi%E1%BB%87c-l%C3%A0m?q=N...  \n",
       "65667  http://vn.indeed.com/Vi%E1%BB%87c-l%C3%A0m?q=N...  \n",
       "65668  http://vn.indeed.com/Vi%E1%BB%87c-l%C3%A0m?q=N...  \n",
       "65669  http://vn.indeed.com/Vi%E1%BB%87c-l%C3%A0m?q=N...  \n",
       "\n",
       "[65670 rows x 5 columns]"
      ]
     },
     "execution_count": 2,
     "metadata": {},
     "output_type": "execute_result"
    }
   ],
   "source": [
    "#Reading file by using read_csv method\n",
    "\n",
    "ds_jobs = pd.read_csv('/kaggle/input/data-science-jobs-around-the-world/AIJobsIndustry.csv')\n",
    "ds_jobs"
   ]
  },
  {
   "cell_type": "code",
   "execution_count": 3,
   "id": "42c1030d",
   "metadata": {
    "execution": {
     "iopub.execute_input": "2024-01-19T07:12:46.427958Z",
     "iopub.status.busy": "2024-01-19T07:12:46.427501Z",
     "iopub.status.idle": "2024-01-19T07:12:46.440142Z",
     "shell.execute_reply": "2024-01-19T07:12:46.438985Z"
    },
    "papermill": {
     "duration": 0.023988,
     "end_time": "2024-01-19T07:12:46.442354",
     "exception": false,
     "start_time": "2024-01-19T07:12:46.418366",
     "status": "completed"
    },
    "tags": []
   },
   "outputs": [
    {
     "data": {
      "text/html": [
       "<div>\n",
       "<style scoped>\n",
       "    .dataframe tbody tr th:only-of-type {\n",
       "        vertical-align: middle;\n",
       "    }\n",
       "\n",
       "    .dataframe tbody tr th {\n",
       "        vertical-align: top;\n",
       "    }\n",
       "\n",
       "    .dataframe thead th {\n",
       "        text-align: right;\n",
       "    }\n",
       "</style>\n",
       "<table border=\"1\" class=\"dataframe\">\n",
       "  <thead>\n",
       "    <tr style=\"text-align: right;\">\n",
       "      <th></th>\n",
       "      <th>JobTitle</th>\n",
       "      <th>Company</th>\n",
       "      <th>Location</th>\n",
       "      <th>CompanyReviews</th>\n",
       "      <th>Link</th>\n",
       "    </tr>\n",
       "  </thead>\n",
       "  <tbody>\n",
       "    <tr>\n",
       "      <th>0</th>\n",
       "      <td>NaN</td>\n",
       "      <td>NaN</td>\n",
       "      <td>United States</td>\n",
       "      <td>NaN</td>\n",
       "      <td>https://www.indeed.com/jobs?q=Python+Data&amp;star...</td>\n",
       "    </tr>\n",
       "    <tr>\n",
       "      <th>1</th>\n",
       "      <td>Data Science Development Program- Junior Data ...</td>\n",
       "      <td>\\n    MassMutual</td>\n",
       "      <td>Amherst, MA 01002</td>\n",
       "      <td>628 reviews</td>\n",
       "      <td>https://www.indeed.com/jobs?q=Python+Data&amp;star...</td>\n",
       "    </tr>\n",
       "    <tr>\n",
       "      <th>2</th>\n",
       "      <td>Sr. Data Scientist</td>\n",
       "      <td>\\n    Catasys</td>\n",
       "      <td>Home Based</td>\n",
       "      <td>6 reviews</td>\n",
       "      <td>https://www.indeed.com/jobs?q=Python+Data&amp;star...</td>\n",
       "    </tr>\n",
       "    <tr>\n",
       "      <th>3</th>\n",
       "      <td>Object-oriented Programmer</td>\n",
       "      <td>\\n    Bank of America</td>\n",
       "      <td>New York, NY 10281</td>\n",
       "      <td>19,303 reviews</td>\n",
       "      <td>https://www.indeed.com/jobs?q=Python+Data&amp;star...</td>\n",
       "    </tr>\n",
       "    <tr>\n",
       "      <th>4</th>\n",
       "      <td>Entry-Level Cognitive / AI / Machine Learning ...</td>\n",
       "      <td>\\n    IBM</td>\n",
       "      <td>Austin, TX 73344</td>\n",
       "      <td>18,926 reviews</td>\n",
       "      <td>https://www.indeed.com/jobs?q=Python+Data&amp;star...</td>\n",
       "    </tr>\n",
       "  </tbody>\n",
       "</table>\n",
       "</div>"
      ],
      "text/plain": [
       "                                            JobTitle                Company  \\\n",
       "0                                                NaN                    NaN   \n",
       "1  Data Science Development Program- Junior Data ...       \\n    MassMutual   \n",
       "2                                 Sr. Data Scientist          \\n    Catasys   \n",
       "3                         Object-oriented Programmer  \\n    Bank of America   \n",
       "4  Entry-Level Cognitive / AI / Machine Learning ...              \\n    IBM   \n",
       "\n",
       "              Location  CompanyReviews  \\\n",
       "0        United States             NaN   \n",
       "1    Amherst, MA 01002     628 reviews   \n",
       "2           Home Based       6 reviews   \n",
       "3  New York, NY 10281   19,303 reviews   \n",
       "4     Austin, TX 73344  18,926 reviews   \n",
       "\n",
       "                                                Link  \n",
       "0  https://www.indeed.com/jobs?q=Python+Data&star...  \n",
       "1  https://www.indeed.com/jobs?q=Python+Data&star...  \n",
       "2  https://www.indeed.com/jobs?q=Python+Data&star...  \n",
       "3  https://www.indeed.com/jobs?q=Python+Data&star...  \n",
       "4  https://www.indeed.com/jobs?q=Python+Data&star...  "
      ]
     },
     "execution_count": 3,
     "metadata": {},
     "output_type": "execute_result"
    }
   ],
   "source": [
    "#To see top 5 rows\n",
    "\n",
    "ds_jobs.head()"
   ]
  },
  {
   "cell_type": "code",
   "execution_count": 4,
   "id": "0cb8c916",
   "metadata": {
    "execution": {
     "iopub.execute_input": "2024-01-19T07:12:46.460162Z",
     "iopub.status.busy": "2024-01-19T07:12:46.459734Z",
     "iopub.status.idle": "2024-01-19T07:12:46.471953Z",
     "shell.execute_reply": "2024-01-19T07:12:46.470918Z"
    },
    "papermill": {
     "duration": 0.023898,
     "end_time": "2024-01-19T07:12:46.474275",
     "exception": false,
     "start_time": "2024-01-19T07:12:46.450377",
     "status": "completed"
    },
    "tags": []
   },
   "outputs": [
    {
     "data": {
      "text/html": [
       "<div>\n",
       "<style scoped>\n",
       "    .dataframe tbody tr th:only-of-type {\n",
       "        vertical-align: middle;\n",
       "    }\n",
       "\n",
       "    .dataframe tbody tr th {\n",
       "        vertical-align: top;\n",
       "    }\n",
       "\n",
       "    .dataframe thead th {\n",
       "        text-align: right;\n",
       "    }\n",
       "</style>\n",
       "<table border=\"1\" class=\"dataframe\">\n",
       "  <thead>\n",
       "    <tr style=\"text-align: right;\">\n",
       "      <th></th>\n",
       "      <th>JobTitle</th>\n",
       "      <th>Company</th>\n",
       "      <th>Location</th>\n",
       "      <th>CompanyReviews</th>\n",
       "      <th>Link</th>\n",
       "    </tr>\n",
       "  </thead>\n",
       "  <tbody>\n",
       "    <tr>\n",
       "      <th>65665</th>\n",
       "      <td>Big Data Engineer (New project team)</td>\n",
       "      <td>\\n    Iconic</td>\n",
       "      <td>Thành phố Hồ Chí Minh</td>\n",
       "      <td>21 reviews</td>\n",
       "      <td>http://vn.indeed.com/Vi%E1%BB%87c-l%C3%A0m?q=N...</td>\n",
       "    </tr>\n",
       "    <tr>\n",
       "      <th>65666</th>\n",
       "      <td>Language processing and Artificial intelligenc...</td>\n",
       "      <td>\\n    Iconic</td>\n",
       "      <td>Hà Nội</td>\n",
       "      <td>21 reviews</td>\n",
       "      <td>http://vn.indeed.com/Vi%E1%BB%87c-l%C3%A0m?q=N...</td>\n",
       "    </tr>\n",
       "    <tr>\n",
       "      <th>65667</th>\n",
       "      <td>Chuyên Viên R&amp;D C/C++, Java Đi Làm Luôn Hoặc S...</td>\n",
       "      <td>NaN</td>\n",
       "      <td>Hà Nội</td>\n",
       "      <td>NaN</td>\n",
       "      <td>http://vn.indeed.com/Vi%E1%BB%87c-l%C3%A0m?q=N...</td>\n",
       "    </tr>\n",
       "    <tr>\n",
       "      <th>65668</th>\n",
       "      <td>Machine Learning Engineer - webSoSanh.vn</td>\n",
       "      <td>NaN</td>\n",
       "      <td>Hà Nội</td>\n",
       "      <td>NaN</td>\n",
       "      <td>http://vn.indeed.com/Vi%E1%BB%87c-l%C3%A0m?q=N...</td>\n",
       "    </tr>\n",
       "    <tr>\n",
       "      <th>65669</th>\n",
       "      <td>AI / Deep Learning Engineer or Data Scientist</td>\n",
       "      <td>NaN</td>\n",
       "      <td>Thành phố Hồ Chí Minh</td>\n",
       "      <td>NaN</td>\n",
       "      <td>http://vn.indeed.com/Vi%E1%BB%87c-l%C3%A0m?q=N...</td>\n",
       "    </tr>\n",
       "  </tbody>\n",
       "</table>\n",
       "</div>"
      ],
      "text/plain": [
       "                                                JobTitle       Company  \\\n",
       "65665               Big Data Engineer (New project team)  \\n    Iconic   \n",
       "65666  Language processing and Artificial intelligenc...  \\n    Iconic   \n",
       "65667  Chuyên Viên R&D C/C++, Java Đi Làm Luôn Hoặc S...           NaN   \n",
       "65668           Machine Learning Engineer - webSoSanh.vn           NaN   \n",
       "65669      AI / Deep Learning Engineer or Data Scientist           NaN   \n",
       "\n",
       "                    Location CompanyReviews  \\\n",
       "65665  Thành phố Hồ Chí Minh     21 reviews   \n",
       "65666                 Hà Nội     21 reviews   \n",
       "65667                 Hà Nội            NaN   \n",
       "65668                 Hà Nội            NaN   \n",
       "65669  Thành phố Hồ Chí Minh            NaN   \n",
       "\n",
       "                                                    Link  \n",
       "65665  http://vn.indeed.com/Vi%E1%BB%87c-l%C3%A0m?q=N...  \n",
       "65666  http://vn.indeed.com/Vi%E1%BB%87c-l%C3%A0m?q=N...  \n",
       "65667  http://vn.indeed.com/Vi%E1%BB%87c-l%C3%A0m?q=N...  \n",
       "65668  http://vn.indeed.com/Vi%E1%BB%87c-l%C3%A0m?q=N...  \n",
       "65669  http://vn.indeed.com/Vi%E1%BB%87c-l%C3%A0m?q=N...  "
      ]
     },
     "execution_count": 4,
     "metadata": {},
     "output_type": "execute_result"
    }
   ],
   "source": [
    "#To see bottom 5 rows\n",
    "\n",
    "ds_jobs.tail()"
   ]
  },
  {
   "cell_type": "code",
   "execution_count": 5,
   "id": "08bd4b8a",
   "metadata": {
    "execution": {
     "iopub.execute_input": "2024-01-19T07:12:46.492644Z",
     "iopub.status.busy": "2024-01-19T07:12:46.492181Z",
     "iopub.status.idle": "2024-01-19T07:12:46.504088Z",
     "shell.execute_reply": "2024-01-19T07:12:46.502996Z"
    },
    "papermill": {
     "duration": 0.02383,
     "end_time": "2024-01-19T07:12:46.506284",
     "exception": false,
     "start_time": "2024-01-19T07:12:46.482454",
     "status": "completed"
    },
    "tags": []
   },
   "outputs": [
    {
     "data": {
      "text/html": [
       "<div>\n",
       "<style scoped>\n",
       "    .dataframe tbody tr th:only-of-type {\n",
       "        vertical-align: middle;\n",
       "    }\n",
       "\n",
       "    .dataframe tbody tr th {\n",
       "        vertical-align: top;\n",
       "    }\n",
       "\n",
       "    .dataframe thead th {\n",
       "        text-align: right;\n",
       "    }\n",
       "</style>\n",
       "<table border=\"1\" class=\"dataframe\">\n",
       "  <thead>\n",
       "    <tr style=\"text-align: right;\">\n",
       "      <th></th>\n",
       "      <th>JobTitle</th>\n",
       "      <th>Company</th>\n",
       "      <th>Location</th>\n",
       "      <th>CompanyReviews</th>\n",
       "      <th>Link</th>\n",
       "    </tr>\n",
       "  </thead>\n",
       "  <tbody>\n",
       "    <tr>\n",
       "      <th>0</th>\n",
       "      <td>NaN</td>\n",
       "      <td>NaN</td>\n",
       "      <td>United States</td>\n",
       "      <td>NaN</td>\n",
       "      <td>https://www.indeed.com/jobs?q=Python+Data&amp;star...</td>\n",
       "    </tr>\n",
       "    <tr>\n",
       "      <th>1</th>\n",
       "      <td>Data Science Development Program- Junior Data ...</td>\n",
       "      <td>\\n    MassMutual</td>\n",
       "      <td>Amherst, MA 01002</td>\n",
       "      <td>628 reviews</td>\n",
       "      <td>https://www.indeed.com/jobs?q=Python+Data&amp;star...</td>\n",
       "    </tr>\n",
       "    <tr>\n",
       "      <th>2</th>\n",
       "      <td>Sr. Data Scientist</td>\n",
       "      <td>\\n    Catasys</td>\n",
       "      <td>Home Based</td>\n",
       "      <td>6 reviews</td>\n",
       "      <td>https://www.indeed.com/jobs?q=Python+Data&amp;star...</td>\n",
       "    </tr>\n",
       "  </tbody>\n",
       "</table>\n",
       "</div>"
      ],
      "text/plain": [
       "                                            JobTitle           Company  \\\n",
       "0                                                NaN               NaN   \n",
       "1  Data Science Development Program- Junior Data ...  \\n    MassMutual   \n",
       "2                                 Sr. Data Scientist     \\n    Catasys   \n",
       "\n",
       "            Location CompanyReviews  \\\n",
       "0      United States            NaN   \n",
       "1  Amherst, MA 01002    628 reviews   \n",
       "2         Home Based      6 reviews   \n",
       "\n",
       "                                                Link  \n",
       "0  https://www.indeed.com/jobs?q=Python+Data&star...  \n",
       "1  https://www.indeed.com/jobs?q=Python+Data&star...  \n",
       "2  https://www.indeed.com/jobs?q=Python+Data&star...  "
      ]
     },
     "execution_count": 5,
     "metadata": {},
     "output_type": "execute_result"
    }
   ],
   "source": [
    "#To see top 3 records only \n",
    "\n",
    "ds_jobs.head(3)"
   ]
  },
  {
   "cell_type": "code",
   "execution_count": 6,
   "id": "122cd8d3",
   "metadata": {
    "execution": {
     "iopub.execute_input": "2024-01-19T07:12:46.524653Z",
     "iopub.status.busy": "2024-01-19T07:12:46.524276Z",
     "iopub.status.idle": "2024-01-19T07:12:46.580236Z",
     "shell.execute_reply": "2024-01-19T07:12:46.579042Z"
    },
    "papermill": {
     "duration": 0.067838,
     "end_time": "2024-01-19T07:12:46.582472",
     "exception": false,
     "start_time": "2024-01-19T07:12:46.514634",
     "status": "completed"
    },
    "tags": []
   },
   "outputs": [
    {
     "name": "stdout",
     "output_type": "stream",
     "text": [
      "<class 'pandas.core.frame.DataFrame'>\n",
      "RangeIndex: 65670 entries, 0 to 65669\n",
      "Data columns (total 5 columns):\n",
      " #   Column          Non-Null Count  Dtype \n",
      "---  ------          --------------  ----- \n",
      " 0   JobTitle        56603 non-null  object\n",
      " 1   Company         23459 non-null  object\n",
      " 2   Location        65670 non-null  object\n",
      " 3   CompanyReviews  27705 non-null  object\n",
      " 4   Link            65670 non-null  object\n",
      "dtypes: object(5)\n",
      "memory usage: 2.5+ MB\n"
     ]
    }
   ],
   "source": [
    "#To get info in a summarized and short manner\n",
    "\n",
    "ds_jobs.info()"
   ]
  },
  {
   "cell_type": "code",
   "execution_count": 7,
   "id": "7235bb2f",
   "metadata": {
    "execution": {
     "iopub.execute_input": "2024-01-19T07:12:46.600873Z",
     "iopub.status.busy": "2024-01-19T07:12:46.600537Z",
     "iopub.status.idle": "2024-01-19T07:12:46.642196Z",
     "shell.execute_reply": "2024-01-19T07:12:46.641174Z"
    },
    "papermill": {
     "duration": 0.053434,
     "end_time": "2024-01-19T07:12:46.644588",
     "exception": false,
     "start_time": "2024-01-19T07:12:46.591154",
     "status": "completed"
    },
    "tags": []
   },
   "outputs": [
    {
     "data": {
      "text/html": [
       "<div>\n",
       "<style scoped>\n",
       "    .dataframe tbody tr th:only-of-type {\n",
       "        vertical-align: middle;\n",
       "    }\n",
       "\n",
       "    .dataframe tbody tr th {\n",
       "        vertical-align: top;\n",
       "    }\n",
       "\n",
       "    .dataframe thead th {\n",
       "        text-align: right;\n",
       "    }\n",
       "</style>\n",
       "<table border=\"1\" class=\"dataframe\">\n",
       "  <thead>\n",
       "    <tr style=\"text-align: right;\">\n",
       "      <th></th>\n",
       "      <th>JobTitle</th>\n",
       "      <th>Company</th>\n",
       "      <th>Location</th>\n",
       "      <th>CompanyReviews</th>\n",
       "      <th>Link</th>\n",
       "    </tr>\n",
       "  </thead>\n",
       "  <tbody>\n",
       "    <tr>\n",
       "      <th>0</th>\n",
       "      <td>True</td>\n",
       "      <td>True</td>\n",
       "      <td>False</td>\n",
       "      <td>True</td>\n",
       "      <td>False</td>\n",
       "    </tr>\n",
       "    <tr>\n",
       "      <th>1</th>\n",
       "      <td>False</td>\n",
       "      <td>False</td>\n",
       "      <td>False</td>\n",
       "      <td>False</td>\n",
       "      <td>False</td>\n",
       "    </tr>\n",
       "    <tr>\n",
       "      <th>2</th>\n",
       "      <td>False</td>\n",
       "      <td>False</td>\n",
       "      <td>False</td>\n",
       "      <td>False</td>\n",
       "      <td>False</td>\n",
       "    </tr>\n",
       "    <tr>\n",
       "      <th>3</th>\n",
       "      <td>False</td>\n",
       "      <td>False</td>\n",
       "      <td>False</td>\n",
       "      <td>False</td>\n",
       "      <td>False</td>\n",
       "    </tr>\n",
       "    <tr>\n",
       "      <th>4</th>\n",
       "      <td>False</td>\n",
       "      <td>False</td>\n",
       "      <td>False</td>\n",
       "      <td>False</td>\n",
       "      <td>False</td>\n",
       "    </tr>\n",
       "    <tr>\n",
       "      <th>...</th>\n",
       "      <td>...</td>\n",
       "      <td>...</td>\n",
       "      <td>...</td>\n",
       "      <td>...</td>\n",
       "      <td>...</td>\n",
       "    </tr>\n",
       "    <tr>\n",
       "      <th>65665</th>\n",
       "      <td>False</td>\n",
       "      <td>False</td>\n",
       "      <td>False</td>\n",
       "      <td>False</td>\n",
       "      <td>False</td>\n",
       "    </tr>\n",
       "    <tr>\n",
       "      <th>65666</th>\n",
       "      <td>False</td>\n",
       "      <td>False</td>\n",
       "      <td>False</td>\n",
       "      <td>False</td>\n",
       "      <td>False</td>\n",
       "    </tr>\n",
       "    <tr>\n",
       "      <th>65667</th>\n",
       "      <td>False</td>\n",
       "      <td>True</td>\n",
       "      <td>False</td>\n",
       "      <td>True</td>\n",
       "      <td>False</td>\n",
       "    </tr>\n",
       "    <tr>\n",
       "      <th>65668</th>\n",
       "      <td>False</td>\n",
       "      <td>True</td>\n",
       "      <td>False</td>\n",
       "      <td>True</td>\n",
       "      <td>False</td>\n",
       "    </tr>\n",
       "    <tr>\n",
       "      <th>65669</th>\n",
       "      <td>False</td>\n",
       "      <td>True</td>\n",
       "      <td>False</td>\n",
       "      <td>True</td>\n",
       "      <td>False</td>\n",
       "    </tr>\n",
       "  </tbody>\n",
       "</table>\n",
       "<p>65670 rows × 5 columns</p>\n",
       "</div>"
      ],
      "text/plain": [
       "       JobTitle  Company  Location  CompanyReviews   Link\n",
       "0          True     True     False            True  False\n",
       "1         False    False     False           False  False\n",
       "2         False    False     False           False  False\n",
       "3         False    False     False           False  False\n",
       "4         False    False     False           False  False\n",
       "...         ...      ...       ...             ...    ...\n",
       "65665     False    False     False           False  False\n",
       "65666     False    False     False           False  False\n",
       "65667     False     True     False            True  False\n",
       "65668     False     True     False            True  False\n",
       "65669     False     True     False            True  False\n",
       "\n",
       "[65670 rows x 5 columns]"
      ]
     },
     "execution_count": 7,
     "metadata": {},
     "output_type": "execute_result"
    }
   ],
   "source": [
    "#To find out value is null or not\n",
    "\n",
    "ds_jobs.isnull()"
   ]
  },
  {
   "cell_type": "code",
   "execution_count": 8,
   "id": "84d05550",
   "metadata": {
    "execution": {
     "iopub.execute_input": "2024-01-19T07:12:46.664237Z",
     "iopub.status.busy": "2024-01-19T07:12:46.663853Z",
     "iopub.status.idle": "2024-01-19T07:12:46.700492Z",
     "shell.execute_reply": "2024-01-19T07:12:46.699582Z"
    },
    "papermill": {
     "duration": 0.049312,
     "end_time": "2024-01-19T07:12:46.702715",
     "exception": false,
     "start_time": "2024-01-19T07:12:46.653403",
     "status": "completed"
    },
    "tags": []
   },
   "outputs": [
    {
     "data": {
      "text/plain": [
       "JobTitle           9067\n",
       "Company           42211\n",
       "Location              0\n",
       "CompanyReviews    37965\n",
       "Link                  0\n",
       "dtype: int64"
      ]
     },
     "execution_count": 8,
     "metadata": {},
     "output_type": "execute_result"
    }
   ],
   "source": [
    "#To find out total sum of null values\n",
    "\n",
    "ds_jobs.isnull().sum()"
   ]
  },
  {
   "cell_type": "code",
   "execution_count": 9,
   "id": "170ce97c",
   "metadata": {
    "execution": {
     "iopub.execute_input": "2024-01-19T07:12:46.721246Z",
     "iopub.status.busy": "2024-01-19T07:12:46.720904Z",
     "iopub.status.idle": "2024-01-19T07:12:46.727771Z",
     "shell.execute_reply": "2024-01-19T07:12:46.726640Z"
    },
    "papermill": {
     "duration": 0.01843,
     "end_time": "2024-01-19T07:12:46.729963",
     "exception": false,
     "start_time": "2024-01-19T07:12:46.711533",
     "status": "completed"
    },
    "tags": []
   },
   "outputs": [
    {
     "data": {
      "text/plain": [
       "(65670, 5)"
      ]
     },
     "execution_count": 9,
     "metadata": {},
     "output_type": "execute_result"
    }
   ],
   "source": [
    "#To get the shape of an array\n",
    "\n",
    "ds_jobs.shape"
   ]
  },
  {
   "cell_type": "code",
   "execution_count": 10,
   "id": "e7c0c255",
   "metadata": {
    "execution": {
     "iopub.execute_input": "2024-01-19T07:12:46.749845Z",
     "iopub.status.busy": "2024-01-19T07:12:46.748987Z",
     "iopub.status.idle": "2024-01-19T07:12:46.803436Z",
     "shell.execute_reply": "2024-01-19T07:12:46.802375Z"
    },
    "papermill": {
     "duration": 0.067397,
     "end_time": "2024-01-19T07:12:46.806071",
     "exception": false,
     "start_time": "2024-01-19T07:12:46.738674",
     "status": "completed"
    },
    "tags": []
   },
   "outputs": [
    {
     "data": {
      "text/plain": [
       "JobTitle          0\n",
       "Company           0\n",
       "Location          0\n",
       "CompanyReviews    0\n",
       "Link              0\n",
       "dtype: int64"
      ]
     },
     "execution_count": 10,
     "metadata": {},
     "output_type": "execute_result"
    }
   ],
   "source": [
    "ds_jobs.dropna(inplace = True)   #For dropping null values\n",
    "\n",
    "ds_jobs.isnull().sum()           #Again checking sum of null values"
   ]
  },
  {
   "cell_type": "code",
   "execution_count": 11,
   "id": "a0dd0b83",
   "metadata": {
    "execution": {
     "iopub.execute_input": "2024-01-19T07:12:46.826115Z",
     "iopub.status.busy": "2024-01-19T07:12:46.825731Z",
     "iopub.status.idle": "2024-01-19T07:12:47.596174Z",
     "shell.execute_reply": "2024-01-19T07:12:47.595285Z"
    },
    "papermill": {
     "duration": 0.78373,
     "end_time": "2024-01-19T07:12:47.598942",
     "exception": false,
     "start_time": "2024-01-19T07:12:46.815212",
     "status": "completed"
    },
    "tags": []
   },
   "outputs": [
    {
     "data": {
      "text/plain": [
       "Text(0.5, 1.0, 'Distribution of Missing Values')"
      ]
     },
     "execution_count": 11,
     "metadata": {},
     "output_type": "execute_result"
    },
    {
     "data": {
      "image/png": "[encoded data removed]",
      "text/plain": [
       "<Figure size 2500x1000 with 2 Axes>"
      ]
     },
     "metadata": {},
     "output_type": "display_data"
    }
   ],
   "source": [
    "#This thing can also be shown by plot like\n",
    "\n",
    "msno.matrix(ds_jobs)\n",
    "plt.title('Distribution of Missing Values',fontsize=40, fontstyle= 'oblique')"
   ]
  },
  {
   "cell_type": "code",
   "execution_count": 12,
   "id": "29882419",
   "metadata": {
    "execution": {
     "iopub.execute_input": "2024-01-19T07:12:47.621230Z",
     "iopub.status.busy": "2024-01-19T07:12:47.620817Z",
     "iopub.status.idle": "2024-01-19T07:12:47.628182Z",
     "shell.execute_reply": "2024-01-19T07:12:47.627098Z"
    },
    "papermill": {
     "duration": 0.021191,
     "end_time": "2024-01-19T07:12:47.630313",
     "exception": false,
     "start_time": "2024-01-19T07:12:47.609122",
     "status": "completed"
    },
    "tags": []
   },
   "outputs": [
    {
     "data": {
      "text/plain": [
       "Index(['JobTitle', 'Company', 'Location', 'CompanyReviews', 'Link'], dtype='object')"
      ]
     },
     "execution_count": 12,
     "metadata": {},
     "output_type": "execute_result"
    }
   ],
   "source": [
    "#It will give us the name of all columns\n",
    "\n",
    "ds_jobs.columns"
   ]
  },
  {
   "cell_type": "code",
   "execution_count": 13,
   "id": "63944da8",
   "metadata": {
    "execution": {
     "iopub.execute_input": "2024-01-19T07:12:47.652381Z",
     "iopub.status.busy": "2024-01-19T07:12:47.651921Z",
     "iopub.status.idle": "2024-01-19T07:12:47.716639Z",
     "shell.execute_reply": "2024-01-19T07:12:47.715701Z"
    },
    "papermill": {
     "duration": 0.078654,
     "end_time": "2024-01-19T07:12:47.719053",
     "exception": false,
     "start_time": "2024-01-19T07:12:47.640399",
     "status": "completed"
    },
    "tags": []
   },
   "outputs": [
    {
     "data": {
      "text/html": [
       "<div>\n",
       "<style scoped>\n",
       "    .dataframe tbody tr th:only-of-type {\n",
       "        vertical-align: middle;\n",
       "    }\n",
       "\n",
       "    .dataframe tbody tr th {\n",
       "        vertical-align: top;\n",
       "    }\n",
       "\n",
       "    .dataframe thead th {\n",
       "        text-align: right;\n",
       "    }\n",
       "</style>\n",
       "<table border=\"1\" class=\"dataframe\">\n",
       "  <thead>\n",
       "    <tr style=\"text-align: right;\">\n",
       "      <th></th>\n",
       "      <th>JobTitle</th>\n",
       "      <th>Company</th>\n",
       "      <th>Location</th>\n",
       "      <th>CompanyReviews</th>\n",
       "      <th>Link</th>\n",
       "    </tr>\n",
       "  </thead>\n",
       "  <tbody>\n",
       "    <tr>\n",
       "      <th>count</th>\n",
       "      <td>23459</td>\n",
       "      <td>23459</td>\n",
       "      <td>23459</td>\n",
       "      <td>23459</td>\n",
       "      <td>23459</td>\n",
       "    </tr>\n",
       "    <tr>\n",
       "      <th>unique</th>\n",
       "      <td>10060</td>\n",
       "      <td>2951</td>\n",
       "      <td>1601</td>\n",
       "      <td>1964</td>\n",
       "      <td>23459</td>\n",
       "    </tr>\n",
       "    <tr>\n",
       "      <th>top</th>\n",
       "      <td>Data Scientist</td>\n",
       "      <td>\\n    Google</td>\n",
       "      <td>London</td>\n",
       "      <td>2 reviews</td>\n",
       "      <td>https://www.indeed.com/jobs?q=Python+Data&amp;star...</td>\n",
       "    </tr>\n",
       "    <tr>\n",
       "      <th>freq</th>\n",
       "      <td>638</td>\n",
       "      <td>674</td>\n",
       "      <td>618</td>\n",
       "      <td>1007</td>\n",
       "      <td>1</td>\n",
       "    </tr>\n",
       "  </tbody>\n",
       "</table>\n",
       "</div>"
      ],
      "text/plain": [
       "              JobTitle       Company Location CompanyReviews  \\\n",
       "count            23459         23459    23459          23459   \n",
       "unique           10060          2951     1601           1964   \n",
       "top     Data Scientist  \\n    Google   London      2 reviews   \n",
       "freq               638           674      618           1007   \n",
       "\n",
       "                                                     Link  \n",
       "count                                               23459  \n",
       "unique                                              23459  \n",
       "top     https://www.indeed.com/jobs?q=Python+Data&star...  \n",
       "freq                                                    1  "
      ]
     },
     "execution_count": 13,
     "metadata": {},
     "output_type": "execute_result"
    }
   ],
   "source": [
    "ds_jobs.describe()"
   ]
  },
  {
   "cell_type": "code",
   "execution_count": 14,
   "id": "ecab7f6f",
   "metadata": {
    "execution": {
     "iopub.execute_input": "2024-01-19T07:12:47.742394Z",
     "iopub.status.busy": "2024-01-19T07:12:47.741503Z",
     "iopub.status.idle": "2024-01-19T07:12:47.761123Z",
     "shell.execute_reply": "2024-01-19T07:12:47.760010Z"
    },
    "papermill": {
     "duration": 0.033856,
     "end_time": "2024-01-19T07:12:47.763681",
     "exception": false,
     "start_time": "2024-01-19T07:12:47.729825",
     "status": "completed"
    },
    "tags": []
   },
   "outputs": [
    {
     "data": {
      "text/plain": [
       "count              23459\n",
       "unique             10060\n",
       "top       Data Scientist\n",
       "freq                 638\n",
       "Name: JobTitle, dtype: object"
      ]
     },
     "execution_count": 14,
     "metadata": {},
     "output_type": "execute_result"
    }
   ],
   "source": [
    "#Describing only stats of column \"JobTitle\"\n",
    "\n",
    "ds_jobs['JobTitle'].describe()"
   ]
  },
  {
   "cell_type": "markdown",
   "id": "4ade245a",
   "metadata": {
    "papermill": {
     "duration": 0.011332,
     "end_time": "2024-01-19T07:12:47.785481",
     "exception": false,
     "start_time": "2024-01-19T07:12:47.774149",
     "status": "completed"
    },
    "tags": []
   },
   "source": [
    "**1. Show the top 10 Job title or role.**"
   ]
  },
  {
   "cell_type": "code",
   "execution_count": 15,
   "id": "ca9d5f28",
   "metadata": {
    "execution": {
     "iopub.execute_input": "2024-01-19T07:12:47.807460Z",
     "iopub.status.busy": "2024-01-19T07:12:47.806215Z",
     "iopub.status.idle": "2024-01-19T07:12:49.795176Z",
     "shell.execute_reply": "2024-01-19T07:12:49.793941Z"
    },
    "papermill": {
     "duration": 2.004744,
     "end_time": "2024-01-19T07:12:49.800145",
     "exception": false,
     "start_time": "2024-01-19T07:12:47.795401",
     "status": "completed"
    },
    "tags": []
   },
   "outputs": [
    {
     "data": {
      "text/html": [
       "        <script type=\"text/javascript\">\n",
       "        window.PlotlyConfig = {MathJaxConfig: 'local'};\n",
       "        if (window.MathJax && window.MathJax.Hub && window.MathJax.Hub.Config) {window.MathJax.Hub.Config({SVG: {font: \"STIX-Web\"}});}\n",
       "        if (typeof require !== 'undefined') {\n",
       "        require.undef(\"plotly\");\n",
       "        requirejs.config({\n",
       "            paths: {\n",
       "                'plotly': ['https://cdn.plot.ly/plotly-2.25.2.min']\n",
       "            }\n",
       "        });\n",
       "        require(['plotly'], function(Plotly) {\n",
       "            window._Plotly = Plotly;\n",
       "        });\n",
       "        }\n",
       "        </script>\n",
       "        "
      ]
     },
     "metadata": {},
     "output_type": "display_data"
    },
    {
     "data": {
      "text/html": [
       "<div>                            <div id=\"49c3c414-4058-47bb-aee1-9179298baf6b\" class=\"plotly-graph-div\" style=\"height:525px; width:100%;\"></div>            <script type=\"text/javascript\">                require([\"plotly\"], function(Plotly) {                    window.PLOTLYENV=window.PLOTLYENV || {};                                    if (document.getElementById(\"49c3c414-4058-47bb-aee1-9179298baf6b\")) {                    Plotly.newPlot(                        \"49c3c414-4058-47bb-aee1-9179298baf6b\",                        [{\"alignmentgroup\":\"True\",\"hovertemplate\":\"color=Data Scientist\\u003cbr\\u003ex=%{x}\\u003cbr\\u003ey=%{y}\\u003cbr\\u003etext=%{text}\\u003cextra\\u003e\\u003c\\u002fextra\\u003e\",\"legendgroup\":\"Data Scientist\",\"marker\":{\"color\":\"rgb(255,247,236)\",\"pattern\":{\"shape\":\"\"}},\"name\":\"Data Scientist\",\"offsetgroup\":\"Data Scientist\",\"orientation\":\"v\",\"showlegend\":true,\"text\":[638.0],\"textposition\":\"auto\",\"x\":[\"Data Scientist\"],\"xaxis\":\"x\",\"y\":[638],\"yaxis\":\"y\",\"type\":\"bar\"},{\"alignmentgroup\":\"True\",\"hovertemplate\":\"color=Data Analyst\\u003cbr\\u003ex=%{x}\\u003cbr\\u003ey=%{y}\\u003cbr\\u003etext=%{text}\\u003cextra\\u003e\\u003c\\u002fextra\\u003e\",\"legendgroup\":\"Data Analyst\",\"marker\":{\"color\":\"rgb(254,232,200)\",\"pattern\":{\"shape\":\"\"}},\"name\":\"Data Analyst\",\"offsetgroup\":\"Data Analyst\",\"orientation\":\"v\",\"showlegend\":true,\"text\":[198.0],\"textposition\":\"auto\",\"x\":[\"Data Analyst\"],\"xaxis\":\"x\",\"y\":[198],\"yaxis\":\"y\",\"type\":\"bar\"},{\"alignmentgroup\":\"True\",\"hovertemplate\":\"color=Software Engineer\\u003cbr\\u003ex=%{x}\\u003cbr\\u003ey=%{y}\\u003cbr\\u003etext=%{text}\\u003cextra\\u003e\\u003c\\u002fextra\\u003e\",\"legendgroup\":\"Software Engineer\",\"marker\":{\"color\":\"rgb(253,212,158)\",\"pattern\":{\"shape\":\"\"}},\"name\":\"Software Engineer\",\"offsetgroup\":\"Software Engineer\",\"orientation\":\"v\",\"showlegend\":true,\"text\":[191.0],\"textposition\":\"auto\",\"x\":[\"Software Engineer\"],\"xaxis\":\"x\",\"y\":[191],\"yaxis\":\"y\",\"type\":\"bar\"},{\"alignmentgroup\":\"True\",\"hovertemplate\":\"color=Data Engineer\\u003cbr\\u003ex=%{x}\\u003cbr\\u003ey=%{y}\\u003cbr\\u003etext=%{text}\\u003cextra\\u003e\\u003c\\u002fextra\\u003e\",\"legendgroup\":\"Data Engineer\",\"marker\":{\"color\":\"rgb(253,187,132)\",\"pattern\":{\"shape\":\"\"}},\"name\":\"Data Engineer\",\"offsetgroup\":\"Data Engineer\",\"orientation\":\"v\",\"showlegend\":true,\"text\":[163.0],\"textposition\":\"auto\",\"x\":[\"Data Engineer\"],\"xaxis\":\"x\",\"y\":[163],\"yaxis\":\"y\",\"type\":\"bar\"},{\"alignmentgroup\":\"True\",\"hovertemplate\":\"color=Business Analyst\\u003cbr\\u003ex=%{x}\\u003cbr\\u003ey=%{y}\\u003cbr\\u003etext=%{text}\\u003cextra\\u003e\\u003c\\u002fextra\\u003e\",\"legendgroup\":\"Business Analyst\",\"marker\":{\"color\":\"rgb(252,141,89)\",\"pattern\":{\"shape\":\"\"}},\"name\":\"Business Analyst\",\"offsetgroup\":\"Business Analyst\",\"orientation\":\"v\",\"showlegend\":true,\"text\":[103.0],\"textposition\":\"auto\",\"x\":[\"Business Analyst\"],\"xaxis\":\"x\",\"y\":[103],\"yaxis\":\"y\",\"type\":\"bar\"},{\"alignmentgroup\":\"True\",\"hovertemplate\":\"color=Big Data Engineer\\u003cbr\\u003ex=%{x}\\u003cbr\\u003ey=%{y}\\u003cbr\\u003etext=%{text}\\u003cextra\\u003e\\u003c\\u002fextra\\u003e\",\"legendgroup\":\"Big Data Engineer\",\"marker\":{\"color\":\"rgb(239,101,72)\",\"pattern\":{\"shape\":\"\"}},\"name\":\"Big Data Engineer\",\"offsetgroup\":\"Big Data Engineer\",\"orientation\":\"v\",\"showlegend\":true,\"text\":[77.0],\"textposition\":\"auto\",\"x\":[\"Big Data Engineer\"],\"xaxis\":\"x\",\"y\":[77],\"yaxis\":\"y\",\"type\":\"bar\"},{\"alignmentgroup\":\"True\",\"hovertemplate\":\"color=Senior Data Scientist\\u003cbr\\u003ex=%{x}\\u003cbr\\u003ey=%{y}\\u003cbr\\u003etext=%{text}\\u003cextra\\u003e\\u003c\\u002fextra\\u003e\",\"legendgroup\":\"Senior Data Scientist\",\"marker\":{\"color\":\"rgb(215,48,31)\",\"pattern\":{\"shape\":\"\"}},\"name\":\"Senior Data Scientist\",\"offsetgroup\":\"Senior Data Scientist\",\"orientation\":\"v\",\"showlegend\":true,\"text\":[75.0],\"textposition\":\"auto\",\"x\":[\"Senior Data Scientist\"],\"xaxis\":\"x\",\"y\":[75],\"yaxis\":\"y\",\"type\":\"bar\"},{\"alignmentgroup\":\"True\",\"hovertemplate\":\"color=Senior Engineer - DevOps\\u003cbr\\u003ex=%{x}\\u003cbr\\u003ey=%{y}\\u003cbr\\u003etext=%{text}\\u003cextra\\u003e\\u003c\\u002fextra\\u003e\",\"legendgroup\":\"Senior Engineer - DevOps\",\"marker\":{\"color\":\"rgb(179,0,0)\",\"pattern\":{\"shape\":\"\"}},\"name\":\"Senior Engineer - DevOps\",\"offsetgroup\":\"Senior Engineer - DevOps\",\"orientation\":\"v\",\"showlegend\":true,\"text\":[58.0],\"textposition\":\"auto\",\"x\":[\"Senior Engineer - DevOps\"],\"xaxis\":\"x\",\"y\":[58],\"yaxis\":\"y\",\"type\":\"bar\"},{\"alignmentgroup\":\"True\",\"hovertemplate\":\"color=Director, Data & Analytics\\u003cbr\\u003ex=%{x}\\u003cbr\\u003ey=%{y}\\u003cbr\\u003etext=%{text}\\u003cextra\\u003e\\u003c\\u002fextra\\u003e\",\"legendgroup\":\"Director, Data & Analytics\",\"marker\":{\"color\":\"rgb(127,0,0)\",\"pattern\":{\"shape\":\"\"}},\"name\":\"Director, Data & Analytics\",\"offsetgroup\":\"Director, Data & Analytics\",\"orientation\":\"v\",\"showlegend\":true,\"text\":[56.0],\"textposition\":\"auto\",\"x\":[\"Director, Data & Analytics\"],\"xaxis\":\"x\",\"y\":[56],\"yaxis\":\"y\",\"type\":\"bar\"},{\"alignmentgroup\":\"True\",\"hovertemplate\":\"color=Project Manager\\u003cbr\\u003ex=%{x}\\u003cbr\\u003ey=%{y}\\u003cbr\\u003etext=%{text}\\u003cextra\\u003e\\u003c\\u002fextra\\u003e\",\"legendgroup\":\"Project Manager\",\"marker\":{\"color\":\"rgb(255,247,236)\",\"pattern\":{\"shape\":\"\"}},\"name\":\"Project Manager\",\"offsetgroup\":\"Project Manager\",\"orientation\":\"v\",\"showlegend\":true,\"text\":[54.0],\"textposition\":\"auto\",\"x\":[\"Project Manager\"],\"xaxis\":\"x\",\"y\":[54],\"yaxis\":\"y\",\"type\":\"bar\"}],                        {\"template\":{\"data\":{\"barpolar\":[{\"marker\":{\"line\":{\"color\":\"rgb(17,17,17)\",\"width\":0.5},\"pattern\":{\"fillmode\":\"overlay\",\"size\":10,\"solidity\":0.2}},\"type\":\"barpolar\"}],\"bar\":[{\"error_x\":{\"color\":\"#f2f5fa\"},\"error_y\":{\"color\":\"#f2f5fa\"},\"marker\":{\"line\":{\"color\":\"rgb(17,17,17)\",\"width\":0.5},\"pattern\":{\"fillmode\":\"overlay\",\"size\":10,\"solidity\":0.2}},\"type\":\"bar\"}],\"carpet\":[{\"aaxis\":{\"endlinecolor\":\"#A2B1C6\",\"gridcolor\":\"#506784\",\"linecolor\":\"#506784\",\"minorgridcolor\":\"#506784\",\"startlinecolor\":\"#A2B1C6\"},\"baxis\":{\"endlinecolor\":\"#A2B1C6\",\"gridcolor\":\"#506784\",\"linecolor\":\"#506784\",\"minorgridcolor\":\"#506784\",\"startlinecolor\":\"#A2B1C6\"},\"type\":\"carpet\"}],\"choropleth\":[{\"colorbar\":{\"outlinewidth\":0,\"ticks\":\"\"},\"type\":\"choropleth\"}],\"contourcarpet\":[{\"colorbar\":{\"outlinewidth\":0,\"ticks\":\"\"},\"type\":\"contourcarpet\"}],\"contour\":[{\"colorbar\":{\"outlinewidth\":0,\"ticks\":\"\"},\"colorscale\":[[0.0,\"#0d0887\"],[0.1111111111111111,\"#46039f\"],[0.2222222222222222,\"#7201a8\"],[0.3333333333333333,\"#9c179e\"],[0.4444444444444444,\"#bd3786\"],[0.5555555555555556,\"#d8576b\"],[0.6666666666666666,\"#ed7953\"],[0.7777777777777778,\"#fb9f3a\"],[0.8888888888888888,\"#fdca26\"],[1.0,\"#f0f921\"]],\"type\":\"contour\"}],\"heatmapgl\":[{\"colorbar\":{\"outlinewidth\":0,\"ticks\":\"\"},\"colorscale\":[[0.0,\"#0d0887\"],[0.1111111111111111,\"#46039f\"],[0.2222222222222222,\"#7201a8\"],[0.3333333333333333,\"#9c179e\"],[0.4444444444444444,\"#bd3786\"],[0.5555555555555556,\"#d8576b\"],[0.6666666666666666,\"#ed7953\"],[0.7777777777777778,\"#fb9f3a\"],[0.8888888888888888,\"#fdca26\"],[1.0,\"#f0f921\"]],\"type\":\"heatmapgl\"}],\"heatmap\":[{\"colorbar\":{\"outlinewidth\":0,\"ticks\":\"\"},\"colorscale\":[[0.0,\"#0d0887\"],[0.1111111111111111,\"#46039f\"],[0.2222222222222222,\"#7201a8\"],[0.3333333333333333,\"#9c179e\"],[0.4444444444444444,\"#bd3786\"],[0.5555555555555556,\"#d8576b\"],[0.6666666666666666,\"#ed7953\"],[0.7777777777777778,\"#fb9f3a\"],[0.8888888888888888,\"#fdca26\"],[1.0,\"#f0f921\"]],\"type\":\"heatmap\"}],\"histogram2dcontour\":[{\"colorbar\":{\"outlinewidth\":0,\"ticks\":\"\"},\"colorscale\":[[0.0,\"#0d0887\"],[0.1111111111111111,\"#46039f\"],[0.2222222222222222,\"#7201a8\"],[0.3333333333333333,\"#9c179e\"],[0.4444444444444444,\"#bd3786\"],[0.5555555555555556,\"#d8576b\"],[0.6666666666666666,\"#ed7953\"],[0.7777777777777778,\"#fb9f3a\"],[0.8888888888888888,\"#fdca26\"],[1.0,\"#f0f921\"]],\"type\":\"histogram2dcontour\"}],\"histogram2d\":[{\"colorbar\":{\"outlinewidth\":0,\"ticks\":\"\"},\"colorscale\":[[0.0,\"#0d0887\"],[0.1111111111111111,\"#46039f\"],[0.2222222222222222,\"#7201a8\"],[0.3333333333333333,\"#9c179e\"],[0.4444444444444444,\"#bd3786\"],[0.5555555555555556,\"#d8576b\"],[0.6666666666666666,\"#ed7953\"],[0.7777777777777778,\"#fb9f3a\"],[0.8888888888888888,\"#fdca26\"],[1.0,\"#f0f921\"]],\"type\":\"histogram2d\"}],\"histogram\":[{\"marker\":{\"pattern\":{\"fillmode\":\"overlay\",\"size\":10,\"solidity\":0.2}},\"type\":\"histogram\"}],\"mesh3d\":[{\"colorbar\":{\"outlinewidth\":0,\"ticks\":\"\"},\"type\":\"mesh3d\"}],\"parcoords\":[{\"line\":{\"colorbar\":{\"outlinewidth\":0,\"ticks\":\"\"}},\"type\":\"parcoords\"}],\"pie\":[{\"automargin\":true,\"type\":\"pie\"}],\"scatter3d\":[{\"line\":{\"colorbar\":{\"outlinewidth\":0,\"ticks\":\"\"}},\"marker\":{\"colorbar\":{\"outlinewidth\":0,\"ticks\":\"\"}},\"type\":\"scatter3d\"}],\"scattercarpet\":[{\"marker\":{\"colorbar\":{\"outlinewidth\":0,\"ticks\":\"\"}},\"type\":\"scattercarpet\"}],\"scattergeo\":[{\"marker\":{\"colorbar\":{\"outlinewidth\":0,\"ticks\":\"\"}},\"type\":\"scattergeo\"}],\"scattergl\":[{\"marker\":{\"line\":{\"color\":\"#283442\"}},\"type\":\"scattergl\"}],\"scattermapbox\":[{\"marker\":{\"colorbar\":{\"outlinewidth\":0,\"ticks\":\"\"}},\"type\":\"scattermapbox\"}],\"scatterpolargl\":[{\"marker\":{\"colorbar\":{\"outlinewidth\":0,\"ticks\":\"\"}},\"type\":\"scatterpolargl\"}],\"scatterpolar\":[{\"marker\":{\"colorbar\":{\"outlinewidth\":0,\"ticks\":\"\"}},\"type\":\"scatterpolar\"}],\"scatter\":[{\"marker\":{\"line\":{\"color\":\"#283442\"}},\"type\":\"scatter\"}],\"scatterternary\":[{\"marker\":{\"colorbar\":{\"outlinewidth\":0,\"ticks\":\"\"}},\"type\":\"scatterternary\"}],\"surface\":[{\"colorbar\":{\"outlinewidth\":0,\"ticks\":\"\"},\"colorscale\":[[0.0,\"#0d0887\"],[0.1111111111111111,\"#46039f\"],[0.2222222222222222,\"#7201a8\"],[0.3333333333333333,\"#9c179e\"],[0.4444444444444444,\"#bd3786\"],[0.5555555555555556,\"#d8576b\"],[0.6666666666666666,\"#ed7953\"],[0.7777777777777778,\"#fb9f3a\"],[0.8888888888888888,\"#fdca26\"],[1.0,\"#f0f921\"]],\"type\":\"surface\"}],\"table\":[{\"cells\":{\"fill\":{\"color\":\"#506784\"},\"line\":{\"color\":\"rgb(17,17,17)\"}},\"header\":{\"fill\":{\"color\":\"#2a3f5f\"},\"line\":{\"color\":\"rgb(17,17,17)\"}},\"type\":\"table\"}]},\"layout\":{\"annotationdefaults\":{\"arrowcolor\":\"#f2f5fa\",\"arrowhead\":0,\"arrowwidth\":1},\"autotypenumbers\":\"strict\",\"coloraxis\":{\"colorbar\":{\"outlinewidth\":0,\"ticks\":\"\"}},\"colorscale\":{\"diverging\":[[0,\"#8e0152\"],[0.1,\"#c51b7d\"],[0.2,\"#de77ae\"],[0.3,\"#f1b6da\"],[0.4,\"#fde0ef\"],[0.5,\"#f7f7f7\"],[0.6,\"#e6f5d0\"],[0.7,\"#b8e186\"],[0.8,\"#7fbc41\"],[0.9,\"#4d9221\"],[1,\"#276419\"]],\"sequential\":[[0.0,\"#0d0887\"],[0.1111111111111111,\"#46039f\"],[0.2222222222222222,\"#7201a8\"],[0.3333333333333333,\"#9c179e\"],[0.4444444444444444,\"#bd3786\"],[0.5555555555555556,\"#d8576b\"],[0.6666666666666666,\"#ed7953\"],[0.7777777777777778,\"#fb9f3a\"],[0.8888888888888888,\"#fdca26\"],[1.0,\"#f0f921\"]],\"sequentialminus\":[[0.0,\"#0d0887\"],[0.1111111111111111,\"#46039f\"],[0.2222222222222222,\"#7201a8\"],[0.3333333333333333,\"#9c179e\"],[0.4444444444444444,\"#bd3786\"],[0.5555555555555556,\"#d8576b\"],[0.6666666666666666,\"#ed7953\"],[0.7777777777777778,\"#fb9f3a\"],[0.8888888888888888,\"#fdca26\"],[1.0,\"#f0f921\"]]},\"colorway\":[\"#636efa\",\"#EF553B\",\"#00cc96\",\"#ab63fa\",\"#FFA15A\",\"#19d3f3\",\"#FF6692\",\"#B6E880\",\"#FF97FF\",\"#FECB52\"],\"font\":{\"color\":\"#f2f5fa\"},\"geo\":{\"bgcolor\":\"rgb(17,17,17)\",\"lakecolor\":\"rgb(17,17,17)\",\"landcolor\":\"rgb(17,17,17)\",\"showlakes\":true,\"showland\":true,\"subunitcolor\":\"#506784\"},\"hoverlabel\":{\"align\":\"left\"},\"hovermode\":\"closest\",\"mapbox\":{\"style\":\"dark\"},\"paper_bgcolor\":\"rgb(17,17,17)\",\"plot_bgcolor\":\"rgb(17,17,17)\",\"polar\":{\"angularaxis\":{\"gridcolor\":\"#506784\",\"linecolor\":\"#506784\",\"ticks\":\"\"},\"bgcolor\":\"rgb(17,17,17)\",\"radialaxis\":{\"gridcolor\":\"#506784\",\"linecolor\":\"#506784\",\"ticks\":\"\"}},\"scene\":{\"xaxis\":{\"backgroundcolor\":\"rgb(17,17,17)\",\"gridcolor\":\"#506784\",\"gridwidth\":2,\"linecolor\":\"#506784\",\"showbackground\":true,\"ticks\":\"\",\"zerolinecolor\":\"#C8D4E3\"},\"yaxis\":{\"backgroundcolor\":\"rgb(17,17,17)\",\"gridcolor\":\"#506784\",\"gridwidth\":2,\"linecolor\":\"#506784\",\"showbackground\":true,\"ticks\":\"\",\"zerolinecolor\":\"#C8D4E3\"},\"zaxis\":{\"backgroundcolor\":\"rgb(17,17,17)\",\"gridcolor\":\"#506784\",\"gridwidth\":2,\"linecolor\":\"#506784\",\"showbackground\":true,\"ticks\":\"\",\"zerolinecolor\":\"#C8D4E3\"}},\"shapedefaults\":{\"line\":{\"color\":\"#f2f5fa\"}},\"sliderdefaults\":{\"bgcolor\":\"#C8D4E3\",\"bordercolor\":\"rgb(17,17,17)\",\"borderwidth\":1,\"tickwidth\":0},\"ternary\":{\"aaxis\":{\"gridcolor\":\"#506784\",\"linecolor\":\"#506784\",\"ticks\":\"\"},\"baxis\":{\"gridcolor\":\"#506784\",\"linecolor\":\"#506784\",\"ticks\":\"\"},\"bgcolor\":\"rgb(17,17,17)\",\"caxis\":{\"gridcolor\":\"#506784\",\"linecolor\":\"#506784\",\"ticks\":\"\"}},\"title\":{\"x\":0.05},\"updatemenudefaults\":{\"bgcolor\":\"#506784\",\"borderwidth\":0},\"xaxis\":{\"automargin\":true,\"gridcolor\":\"#283442\",\"linecolor\":\"#506784\",\"ticks\":\"\",\"title\":{\"standoff\":15},\"zerolinecolor\":\"#283442\",\"zerolinewidth\":2},\"yaxis\":{\"automargin\":true,\"gridcolor\":\"#283442\",\"linecolor\":\"#506784\",\"ticks\":\"\",\"title\":{\"standoff\":15},\"zerolinecolor\":\"#283442\",\"zerolinewidth\":2}}},\"xaxis\":{\"anchor\":\"y\",\"domain\":[0.0,1.0],\"title\":{\"text\":\"Job Title\"}},\"yaxis\":{\"anchor\":\"x\",\"domain\":[0.0,1.0],\"title\":{\"text\":\"Count\"}},\"legend\":{\"title\":{\"text\":\"color\"},\"tracegroupgap\":0},\"title\":{\"text\":\"Top 10 Job title\\u002frole\"},\"barmode\":\"relative\",\"font\":{\"size\":20,\"family\":\"Franklin Gothic\"}},                        {\"responsive\": true}                    ).then(function(){\n",
       "                            \n",
       "var gd = document.getElementById('49c3c414-4058-47bb-aee1-9179298baf6b');\n",
       "var x = new MutationObserver(function (mutations, observer) {{\n",
       "        var display = window.getComputedStyle(gd).display;\n",
       "        if (!display || display === 'none') {{\n",
       "            console.log([gd, 'removed!']);\n",
       "            Plotly.purge(gd);\n",
       "            observer.disconnect();\n",
       "        }}\n",
       "}});\n",
       "\n",
       "// Listen for the removal of the full notebook cells\n",
       "var notebookContainer = gd.closest('#notebook-container');\n",
       "if (notebookContainer) {{\n",
       "    x.observe(notebookContainer, {childList: true});\n",
       "}}\n",
       "\n",
       "// Listen for the clearing of the current output cell\n",
       "var outputEl = gd.closest('.output');\n",
       "if (outputEl) {{\n",
       "    x.observe(outputEl, {childList: true});\n",
       "}}\n",
       "\n",
       "                        })                };                });            </script>        </div>"
      ]
     },
     "metadata": {},
     "output_type": "display_data"
    }
   ],
   "source": [
    "top10_job_titles = ds_jobs['JobTitle'].value_counts()[:10]\n",
    "fig = px.bar(y=top10_job_titles.values, \n",
    "             x=top10_job_titles.index, \n",
    "             color=top10_job_titles.index,\n",
    "             color_discrete_sequence=px.colors.sequential.OrRd,\n",
    "             text=top10_job_titles.values,\n",
    "             title='Top 10 Job title/role',\n",
    "             template='plotly_dark')\n",
    "fig.update_layout(\n",
    "    xaxis_title=\"Job Title\",\n",
    "    yaxis_title=\"Count\",\n",
    "    font=dict(size=20,family=\"Franklin Gothic\"))\n",
    "fig.show()"
   ]
  },
  {
   "cell_type": "markdown",
   "id": "88bb33ad",
   "metadata": {
    "papermill": {
     "duration": 0.011806,
     "end_time": "2024-01-19T07:12:49.825242",
     "exception": false,
     "start_time": "2024-01-19T07:12:49.813436",
     "status": "completed"
    },
    "tags": []
   },
   "source": [
    "**2. Show the contribution of top companies which are posting the maximum job for data science related field.**"
   ]
  },
  {
   "cell_type": "code",
   "execution_count": 16,
   "id": "667ebec3",
   "metadata": {
    "execution": {
     "iopub.execute_input": "2024-01-19T07:12:49.851213Z",
     "iopub.status.busy": "2024-01-19T07:12:49.850669Z",
     "iopub.status.idle": "2024-01-19T07:12:50.083363Z",
     "shell.execute_reply": "2024-01-19T07:12:50.082573Z"
    },
    "papermill": {
     "duration": 0.252814,
     "end_time": "2024-01-19T07:12:50.089564",
     "exception": false,
     "start_time": "2024-01-19T07:12:49.836750",
     "status": "completed"
    },
    "tags": []
   },
   "outputs": [
    {
     "data": {
      "image/png": "[encoded data removed]",
      "text/plain": [
       "<Figure size 640x480 with 1 Axes>"
      ]
     },
     "metadata": {},
     "output_type": "display_data"
    }
   ],
   "source": [
    "my_explode=(0,0,0.1,0.1,0.1) \n",
    "labels=[x for x in ds_jobs[\"Company\"].value_counts().sort_values(ascending=False)[0:5].index] \n",
    "patches,ax, text= plt.pie(ds_jobs[\"Company\"].value_counts().sort_values(ascending=False)[0:5],autopct='%1.1f%%',explode=my_explode,shadow=True,startangle=305)\n",
    "plt.title(\"Top 5 Companies with Maximum Number of Data Science Related Jobs\", size=10, color='black')\n",
    "plt.legend(patches, labels, loc=4, bbox_to_anchor = (1.3,0.25))\n",
    "plt.axis('equal')\n",
    "plt.show()"
   ]
  },
  {
   "cell_type": "markdown",
   "id": "3f43b22b",
   "metadata": {
    "papermill": {
     "duration": 0.024504,
     "end_time": "2024-01-19T07:12:50.142164",
     "exception": false,
     "start_time": "2024-01-19T07:12:50.117660",
     "status": "completed"
    },
    "tags": []
   },
   "source": [
    "**3. Give the name of top 5 companies which is highest in posting jobs.**"
   ]
  },
  {
   "cell_type": "code",
   "execution_count": 17,
   "id": "a4429a68",
   "metadata": {
    "execution": {
     "iopub.execute_input": "2024-01-19T07:12:50.170828Z",
     "iopub.status.busy": "2024-01-19T07:12:50.170419Z",
     "iopub.status.idle": "2024-01-19T07:12:50.273172Z",
     "shell.execute_reply": "2024-01-19T07:12:50.271762Z"
    },
    "papermill": {
     "duration": 0.120289,
     "end_time": "2024-01-19T07:12:50.275638",
     "exception": false,
     "start_time": "2024-01-19T07:12:50.155349",
     "status": "completed"
    },
    "tags": []
   },
   "outputs": [
    {
     "data": {
      "text/html": [
       "<div>                            <div id=\"a36c5e94-6424-4029-9444-a0494f652a23\" class=\"plotly-graph-div\" style=\"height:525px; width:100%;\"></div>            <script type=\"text/javascript\">                require([\"plotly\"], function(Plotly) {                    window.PLOTLYENV=window.PLOTLYENV || {};                                    if (document.getElementById(\"a36c5e94-6424-4029-9444-a0494f652a23\")) {                    Plotly.newPlot(                        \"a36c5e94-6424-4029-9444-a0494f652a23\",                        [{\"alignmentgroup\":\"True\",\"hovertemplate\":\"color=\\n    Google\\u003cbr\\u003ex=%{x}\\u003cbr\\u003ey=%{y}\\u003cbr\\u003etext=%{text}\\u003cextra\\u003e\\u003c\\u002fextra\\u003e\",\"legendgroup\":\"\\n    Google\",\"marker\":{\"color\":\"rgb(232, 245, 171)\",\"pattern\":{\"shape\":\"\"}},\"name\":\"\\n    Google\",\"offsetgroup\":\"\\n    Google\",\"orientation\":\"v\",\"showlegend\":true,\"text\":[674.0],\"textposition\":\"auto\",\"x\":[\"\\n    Google\"],\"xaxis\":\"x\",\"y\":[674],\"yaxis\":\"y\",\"type\":\"bar\"},{\"alignmentgroup\":\"True\",\"hovertemplate\":\"color=\\n    Amazon.com\\u003cbr\\u003ex=%{x}\\u003cbr\\u003ey=%{y}\\u003cbr\\u003etext=%{text}\\u003cextra\\u003e\\u003c\\u002fextra\\u003e\",\"legendgroup\":\"\\n    Amazon.com\",\"marker\":{\"color\":\"rgb(220, 219, 137)\",\"pattern\":{\"shape\":\"\"}},\"name\":\"\\n    Amazon.com\",\"offsetgroup\":\"\\n    Amazon.com\",\"orientation\":\"v\",\"showlegend\":true,\"text\":[527.0],\"textposition\":\"auto\",\"x\":[\"\\n    Amazon.com\"],\"xaxis\":\"x\",\"y\":[527],\"yaxis\":\"y\",\"type\":\"bar\"},{\"alignmentgroup\":\"True\",\"hovertemplate\":\"color=\\n    Accenture\\u003cbr\\u003ex=%{x}\\u003cbr\\u003ey=%{y}\\u003cbr\\u003etext=%{text}\\u003cextra\\u003e\\u003c\\u002fextra\\u003e\",\"legendgroup\":\"\\n    Accenture\",\"marker\":{\"color\":\"rgb(209, 193, 107)\",\"pattern\":{\"shape\":\"\"}},\"name\":\"\\n    Accenture\",\"offsetgroup\":\"\\n    Accenture\",\"orientation\":\"v\",\"showlegend\":true,\"text\":[406.0],\"textposition\":\"auto\",\"x\":[\"\\n    Accenture\"],\"xaxis\":\"x\",\"y\":[406],\"yaxis\":\"y\",\"type\":\"bar\"},{\"alignmentgroup\":\"True\",\"hovertemplate\":\"color=\\n    IBM\\u003cbr\\u003ex=%{x}\\u003cbr\\u003ey=%{y}\\u003cbr\\u003etext=%{text}\\u003cextra\\u003e\\u003c\\u002fextra\\u003e\",\"legendgroup\":\"\\n    IBM\",\"marker\":{\"color\":\"rgb(199, 168, 83)\",\"pattern\":{\"shape\":\"\"}},\"name\":\"\\n    IBM\",\"offsetgroup\":\"\\n    IBM\",\"orientation\":\"v\",\"showlegend\":true,\"text\":[406.0],\"textposition\":\"auto\",\"x\":[\"\\n    IBM\"],\"xaxis\":\"x\",\"y\":[406],\"yaxis\":\"y\",\"type\":\"bar\"},{\"alignmentgroup\":\"True\",\"hovertemplate\":\"color=\\n    Microsoft\\u003cbr\\u003ex=%{x}\\u003cbr\\u003ey=%{y}\\u003cbr\\u003etext=%{text}\\u003cextra\\u003e\\u003c\\u002fextra\\u003e\",\"legendgroup\":\"\\n    Microsoft\",\"marker\":{\"color\":\"rgb(186, 143, 66)\",\"pattern\":{\"shape\":\"\"}},\"name\":\"\\n    Microsoft\",\"offsetgroup\":\"\\n    Microsoft\",\"orientation\":\"v\",\"showlegend\":true,\"text\":[385.0],\"textposition\":\"auto\",\"x\":[\"\\n    Microsoft\"],\"xaxis\":\"x\",\"y\":[385],\"yaxis\":\"y\",\"type\":\"bar\"}],                        {\"template\":{\"data\":{\"barpolar\":[{\"marker\":{\"line\":{\"color\":\"rgb(17,17,17)\",\"width\":0.5},\"pattern\":{\"fillmode\":\"overlay\",\"size\":10,\"solidity\":0.2}},\"type\":\"barpolar\"}],\"bar\":[{\"error_x\":{\"color\":\"#f2f5fa\"},\"error_y\":{\"color\":\"#f2f5fa\"},\"marker\":{\"line\":{\"color\":\"rgb(17,17,17)\",\"width\":0.5},\"pattern\":{\"fillmode\":\"overlay\",\"size\":10,\"solidity\":0.2}},\"type\":\"bar\"}],\"carpet\":[{\"aaxis\":{\"endlinecolor\":\"#A2B1C6\",\"gridcolor\":\"#506784\",\"linecolor\":\"#506784\",\"minorgridcolor\":\"#506784\",\"startlinecolor\":\"#A2B1C6\"},\"baxis\":{\"endlinecolor\":\"#A2B1C6\",\"gridcolor\":\"#506784\",\"linecolor\":\"#506784\",\"minorgridcolor\":\"#506784\",\"startlinecolor\":\"#A2B1C6\"},\"type\":\"carpet\"}],\"choropleth\":[{\"colorbar\":{\"outlinewidth\":0,\"ticks\":\"\"},\"type\":\"choropleth\"}],\"contourcarpet\":[{\"colorbar\":{\"outlinewidth\":0,\"ticks\":\"\"},\"type\":\"contourcarpet\"}],\"contour\":[{\"colorbar\":{\"outlinewidth\":0,\"ticks\":\"\"},\"colorscale\":[[0.0,\"#0d0887\"],[0.1111111111111111,\"#46039f\"],[0.2222222222222222,\"#7201a8\"],[0.3333333333333333,\"#9c179e\"],[0.4444444444444444,\"#bd3786\"],[0.5555555555555556,\"#d8576b\"],[0.6666666666666666,\"#ed7953\"],[0.7777777777777778,\"#fb9f3a\"],[0.8888888888888888,\"#fdca26\"],[1.0,\"#f0f921\"]],\"type\":\"contour\"}],\"heatmapgl\":[{\"colorbar\":{\"outlinewidth\":0,\"ticks\":\"\"},\"colorscale\":[[0.0,\"#0d0887\"],[0.1111111111111111,\"#46039f\"],[0.2222222222222222,\"#7201a8\"],[0.3333333333333333,\"#9c179e\"],[0.4444444444444444,\"#bd3786\"],[0.5555555555555556,\"#d8576b\"],[0.6666666666666666,\"#ed7953\"],[0.7777777777777778,\"#fb9f3a\"],[0.8888888888888888,\"#fdca26\"],[1.0,\"#f0f921\"]],\"type\":\"heatmapgl\"}],\"heatmap\":[{\"colorbar\":{\"outlinewidth\":0,\"ticks\":\"\"},\"colorscale\":[[0.0,\"#0d0887\"],[0.1111111111111111,\"#46039f\"],[0.2222222222222222,\"#7201a8\"],[0.3333333333333333,\"#9c179e\"],[0.4444444444444444,\"#bd3786\"],[0.5555555555555556,\"#d8576b\"],[0.6666666666666666,\"#ed7953\"],[0.7777777777777778,\"#fb9f3a\"],[0.8888888888888888,\"#fdca26\"],[1.0,\"#f0f921\"]],\"type\":\"heatmap\"}],\"histogram2dcontour\":[{\"colorbar\":{\"outlinewidth\":0,\"ticks\":\"\"},\"colorscale\":[[0.0,\"#0d0887\"],[0.1111111111111111,\"#46039f\"],[0.2222222222222222,\"#7201a8\"],[0.3333333333333333,\"#9c179e\"],[0.4444444444444444,\"#bd3786\"],[0.5555555555555556,\"#d8576b\"],[0.6666666666666666,\"#ed7953\"],[0.7777777777777778,\"#fb9f3a\"],[0.8888888888888888,\"#fdca26\"],[1.0,\"#f0f921\"]],\"type\":\"histogram2dcontour\"}],\"histogram2d\":[{\"colorbar\":{\"outlinewidth\":0,\"ticks\":\"\"},\"colorscale\":[[0.0,\"#0d0887\"],[0.1111111111111111,\"#46039f\"],[0.2222222222222222,\"#7201a8\"],[0.3333333333333333,\"#9c179e\"],[0.4444444444444444,\"#bd3786\"],[0.5555555555555556,\"#d8576b\"],[0.6666666666666666,\"#ed7953\"],[0.7777777777777778,\"#fb9f3a\"],[0.8888888888888888,\"#fdca26\"],[1.0,\"#f0f921\"]],\"type\":\"histogram2d\"}],\"histogram\":[{\"marker\":{\"pattern\":{\"fillmode\":\"overlay\",\"size\":10,\"solidity\":0.2}},\"type\":\"histogram\"}],\"mesh3d\":[{\"colorbar\":{\"outlinewidth\":0,\"ticks\":\"\"},\"type\":\"mesh3d\"}],\"parcoords\":[{\"line\":{\"colorbar\":{\"outlinewidth\":0,\"ticks\":\"\"}},\"type\":\"parcoords\"}],\"pie\":[{\"automargin\":true,\"type\":\"pie\"}],\"scatter3d\":[{\"line\":{\"colorbar\":{\"outlinewidth\":0,\"ticks\":\"\"}},\"marker\":{\"colorbar\":{\"outlinewidth\":0,\"ticks\":\"\"}},\"type\":\"scatter3d\"}],\"scattercarpet\":[{\"marker\":{\"colorbar\":{\"outlinewidth\":0,\"ticks\":\"\"}},\"type\":\"scattercarpet\"}],\"scattergeo\":[{\"marker\":{\"colorbar\":{\"outlinewidth\":0,\"ticks\":\"\"}},\"type\":\"scattergeo\"}],\"scattergl\":[{\"marker\":{\"line\":{\"color\":\"#283442\"}},\"type\":\"scattergl\"}],\"scattermapbox\":[{\"marker\":{\"colorbar\":{\"outlinewidth\":0,\"ticks\":\"\"}},\"type\":\"scattermapbox\"}],\"scatterpolargl\":[{\"marker\":{\"colorbar\":{\"outlinewidth\":0,\"ticks\":\"\"}},\"type\":\"scatterpolargl\"}],\"scatterpolar\":[{\"marker\":{\"colorbar\":{\"outlinewidth\":0,\"ticks\":\"\"}},\"type\":\"scatterpolar\"}],\"scatter\":[{\"marker\":{\"line\":{\"color\":\"#283442\"}},\"type\":\"scatter\"}],\"scatterternary\":[{\"marker\":{\"colorbar\":{\"outlinewidth\":0,\"ticks\":\"\"}},\"type\":\"scatterternary\"}],\"surface\":[{\"colorbar\":{\"outlinewidth\":0,\"ticks\":\"\"},\"colorscale\":[[0.0,\"#0d0887\"],[0.1111111111111111,\"#46039f\"],[0.2222222222222222,\"#7201a8\"],[0.3333333333333333,\"#9c179e\"],[0.4444444444444444,\"#bd3786\"],[0.5555555555555556,\"#d8576b\"],[0.6666666666666666,\"#ed7953\"],[0.7777777777777778,\"#fb9f3a\"],[0.8888888888888888,\"#fdca26\"],[1.0,\"#f0f921\"]],\"type\":\"surface\"}],\"table\":[{\"cells\":{\"fill\":{\"color\":\"#506784\"},\"line\":{\"color\":\"rgb(17,17,17)\"}},\"header\":{\"fill\":{\"color\":\"#2a3f5f\"},\"line\":{\"color\":\"rgb(17,17,17)\"}},\"type\":\"table\"}]},\"layout\":{\"annotationdefaults\":{\"arrowcolor\":\"#f2f5fa\",\"arrowhead\":0,\"arrowwidth\":1},\"autotypenumbers\":\"strict\",\"coloraxis\":{\"colorbar\":{\"outlinewidth\":0,\"ticks\":\"\"}},\"colorscale\":{\"diverging\":[[0,\"#8e0152\"],[0.1,\"#c51b7d\"],[0.2,\"#de77ae\"],[0.3,\"#f1b6da\"],[0.4,\"#fde0ef\"],[0.5,\"#f7f7f7\"],[0.6,\"#e6f5d0\"],[0.7,\"#b8e186\"],[0.8,\"#7fbc41\"],[0.9,\"#4d9221\"],[1,\"#276419\"]],\"sequential\":[[0.0,\"#0d0887\"],[0.1111111111111111,\"#46039f\"],[0.2222222222222222,\"#7201a8\"],[0.3333333333333333,\"#9c179e\"],[0.4444444444444444,\"#bd3786\"],[0.5555555555555556,\"#d8576b\"],[0.6666666666666666,\"#ed7953\"],[0.7777777777777778,\"#fb9f3a\"],[0.8888888888888888,\"#fdca26\"],[1.0,\"#f0f921\"]],\"sequentialminus\":[[0.0,\"#0d0887\"],[0.1111111111111111,\"#46039f\"],[0.2222222222222222,\"#7201a8\"],[0.3333333333333333,\"#9c179e\"],[0.4444444444444444,\"#bd3786\"],[0.5555555555555556,\"#d8576b\"],[0.6666666666666666,\"#ed7953\"],[0.7777777777777778,\"#fb9f3a\"],[0.8888888888888888,\"#fdca26\"],[1.0,\"#f0f921\"]]},\"colorway\":[\"#636efa\",\"#EF553B\",\"#00cc96\",\"#ab63fa\",\"#FFA15A\",\"#19d3f3\",\"#FF6692\",\"#B6E880\",\"#FF97FF\",\"#FECB52\"],\"font\":{\"color\":\"#f2f5fa\"},\"geo\":{\"bgcolor\":\"rgb(17,17,17)\",\"lakecolor\":\"rgb(17,17,17)\",\"landcolor\":\"rgb(17,17,17)\",\"showlakes\":true,\"showland\":true,\"subunitcolor\":\"#506784\"},\"hoverlabel\":{\"align\":\"left\"},\"hovermode\":\"closest\",\"mapbox\":{\"style\":\"dark\"},\"paper_bgcolor\":\"rgb(17,17,17)\",\"plot_bgcolor\":\"rgb(17,17,17)\",\"polar\":{\"angularaxis\":{\"gridcolor\":\"#506784\",\"linecolor\":\"#506784\",\"ticks\":\"\"},\"bgcolor\":\"rgb(17,17,17)\",\"radialaxis\":{\"gridcolor\":\"#506784\",\"linecolor\":\"#506784\",\"ticks\":\"\"}},\"scene\":{\"xaxis\":{\"backgroundcolor\":\"rgb(17,17,17)\",\"gridcolor\":\"#506784\",\"gridwidth\":2,\"linecolor\":\"#506784\",\"showbackground\":true,\"ticks\":\"\",\"zerolinecolor\":\"#C8D4E3\"},\"yaxis\":{\"backgroundcolor\":\"rgb(17,17,17)\",\"gridcolor\":\"#506784\",\"gridwidth\":2,\"linecolor\":\"#506784\",\"showbackground\":true,\"ticks\":\"\",\"zerolinecolor\":\"#C8D4E3\"},\"zaxis\":{\"backgroundcolor\":\"rgb(17,17,17)\",\"gridcolor\":\"#506784\",\"gridwidth\":2,\"linecolor\":\"#506784\",\"showbackground\":true,\"ticks\":\"\",\"zerolinecolor\":\"#C8D4E3\"}},\"shapedefaults\":{\"line\":{\"color\":\"#f2f5fa\"}},\"sliderdefaults\":{\"bgcolor\":\"#C8D4E3\",\"bordercolor\":\"rgb(17,17,17)\",\"borderwidth\":1,\"tickwidth\":0},\"ternary\":{\"aaxis\":{\"gridcolor\":\"#506784\",\"linecolor\":\"#506784\",\"ticks\":\"\"},\"baxis\":{\"gridcolor\":\"#506784\",\"linecolor\":\"#506784\",\"ticks\":\"\"},\"bgcolor\":\"rgb(17,17,17)\",\"caxis\":{\"gridcolor\":\"#506784\",\"linecolor\":\"#506784\",\"ticks\":\"\"}},\"title\":{\"x\":0.05},\"updatemenudefaults\":{\"bgcolor\":\"#506784\",\"borderwidth\":0},\"xaxis\":{\"automargin\":true,\"gridcolor\":\"#283442\",\"linecolor\":\"#506784\",\"ticks\":\"\",\"title\":{\"standoff\":15},\"zerolinecolor\":\"#283442\",\"zerolinewidth\":2},\"yaxis\":{\"automargin\":true,\"gridcolor\":\"#283442\",\"linecolor\":\"#506784\",\"ticks\":\"\",\"title\":{\"standoff\":15},\"zerolinecolor\":\"#283442\",\"zerolinewidth\":2}}},\"xaxis\":{\"anchor\":\"y\",\"domain\":[0.0,1.0],\"title\":{\"text\":\"Companies\"}},\"yaxis\":{\"anchor\":\"x\",\"domain\":[0.0,1.0],\"title\":{\"text\":\"count\"}},\"legend\":{\"title\":{\"text\":\"color\"},\"tracegroupgap\":0},\"title\":{\"text\":\"Top 5 Companies\"},\"barmode\":\"relative\",\"font\":{\"size\":20,\"family\":\"Franklin Gothic\"}},                        {\"responsive\": true}                    ).then(function(){\n",
       "                            \n",
       "var gd = document.getElementById('a36c5e94-6424-4029-9444-a0494f652a23');\n",
       "var x = new MutationObserver(function (mutations, observer) {{\n",
       "        var display = window.getComputedStyle(gd).display;\n",
       "        if (!display || display === 'none') {{\n",
       "            console.log([gd, 'removed!']);\n",
       "            Plotly.purge(gd);\n",
       "            observer.disconnect();\n",
       "        }}\n",
       "}});\n",
       "\n",
       "// Listen for the removal of the full notebook cells\n",
       "var notebookContainer = gd.closest('#notebook-container');\n",
       "if (notebookContainer) {{\n",
       "    x.observe(notebookContainer, {childList: true});\n",
       "}}\n",
       "\n",
       "// Listen for the clearing of the current output cell\n",
       "var outputEl = gd.closest('.output');\n",
       "if (outputEl) {{\n",
       "    x.observe(outputEl, {childList: true});\n",
       "}}\n",
       "\n",
       "                        })                };                });            </script>        </div>"
      ]
     },
     "metadata": {},
     "output_type": "display_data"
    }
   ],
   "source": [
    "top5_companies = ds_jobs['Company'].value_counts()[:5]\n",
    "fig = px.bar(y=top5_companies.values, \n",
    "             x=top5_companies.index, \n",
    "             color=top5_companies.index,\n",
    "             color_discrete_sequence=px.colors.sequential.turbid,\n",
    "             text=top5_companies.values,\n",
    "             title='Top 5 Companies',\n",
    "             template='plotly_dark')\n",
    "fig.update_layout(xaxis_title=\"Companies\",yaxis_title=\"count\",font = dict(size=20,family=\"Franklin Gothic\"))\n",
    "fig.show()"
   ]
  },
  {
   "cell_type": "markdown",
   "id": "72db3d31",
   "metadata": {
    "papermill": {
     "duration": 0.011939,
     "end_time": "2024-01-19T07:12:50.300042",
     "exception": false,
     "start_time": "2024-01-19T07:12:50.288103",
     "status": "completed"
    },
    "tags": []
   },
   "source": [
    "**In this way by using some useful libraries and methods we performed EDA on data science job data. Which helped us to clean and filter data. By using all that we tried to analyze and visualize our dataset through different plots. Which helped us to answer of some intresting questions like which company posted the max no. of data job?What are the top10 role/position for job etc.**"
   ]
  }
 ],
 "metadata": {
  "kaggle": {
   "accelerator": "none",
   "dataSources": [
    {
     "datasetId": 8637,
     "sourceId": 12089,
     "sourceType": "datasetVersion"
    }
   ],
   "dockerImageVersionId": 30635,
   "isGpuEnabled": false,
   "isInternetEnabled": true,
   "language": "python",
   "sourceType": "notebook"
  },
  "kernelspec": {
   "display_name": "Python 3",
   "language": "python",
   "name": "python3"
  },
  "language_info": {
   "codemirror_mode": {
    "name": "ipython",
    "version": 3
   },
   "file_extension": ".py",
   "mimetype": "text/x-python",
   "name": "python",
   "nbconvert_exporter": "python",
   "pygments_lexer": "ipython3",
   "version": "3.10.12"
  },
  "papermill": {
   "default_parameters": {},
   "duration": 11.308218,
   "end_time": "2024-01-19T07:12:51.033632",
   "environment_variables": {},
   "exception": null,
   "input_path": "__notebook__.ipynb",
   "output_path": "__notebook__.ipynb",
   "parameters": {},
   "start_time": "2024-01-19T07:12:39.725414",
   "version": "2.4.0"
  }
 },
 "nbformat": 4,
 "nbformat_minor": 5
}
